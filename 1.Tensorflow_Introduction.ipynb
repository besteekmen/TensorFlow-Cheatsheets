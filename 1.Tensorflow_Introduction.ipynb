{
 "cells": [
  {
   "cell_type": "markdown",
   "id": "5140c7d0",
   "metadata": {},
   "source": [
    "# Introduction to Tensorflow\n",
    "\n",
    "In traditional programming rules have to be formulated manually to obtain answers for the provided data, whereas, Machine Learning algorithms automatically formulate the rules from the provided data and answers. TensorFlow is an open-source software library for Machine Learning and Artificial Intelligence.\n",
    "\n",
    "- __Learn TensorFlow:__ [TensorFlow Website](https://www.tensorflow.org/learn)\n",
    "- __TensorFlow in Colab:__ [TensorFlow Colab Video Series](https://www.youtube.com/playlist?list=PLQY2H8rRoyvyK5aEDAI3wUUqC_F0oEroL)\n",
    "- __Git Installation:__ [git-scm](https://git-scm.com/book/en/v2/Getting-Started-Installing-Git)\n",
    "\n",
    "- __Required Packages:__\n",
    "  - tensorflow==2.10\n",
    "  - scikit-learn==1.0.1\n",
    "  - pandas==1.1.5\n",
    "  - matplotlib==3.2.2\n",
    "  - seaborn==0.11.2\n",
    "\n",
    "## Imports\n",
    "\n",
    "The required packages with selected versions are imported below. [TensorFlow](https://www.tensorflow.org/) is imported with `tf` for convention and ease of use. [`numpy`](https://numpy.org) is imported to represent data as arrays and to optimize numerical operations. The framework [`keras`](https://keras.io/) is also imported to use in order to build neural networks as a sequence of layers."
   ]
  },
  {
   "cell_type": "code",
   "execution_count": 3,
   "id": "93db3299",
   "metadata": {},
   "outputs": [
    {
     "name": "stdout",
     "output_type": "stream",
     "text": [
      "Name: tensorflow-gpu\n",
      "Version: 2.10.1\n",
      "Summary: TensorFlow is an open source machine learning framework for everyone.\n",
      "Home-page: https://www.tensorflow.org/\n",
      "Author: Google Inc.\n",
      "Author-email: packages@tensorflow.org\n",
      "License: Apache 2.0\n",
      "Location: c:\\programdata\\anaconda3\\envs\\tf2-gpu\\lib\\site-packages\n",
      "Requires: absl-py, astunparse, flatbuffers, gast, google-pasta, grpcio, h5py, keras, keras-preprocessing, libclang, numpy, opt-einsum, packaging, protobuf, setuptools, six, tensorboard, tensorflow-estimator, tensorflow-io-gcs-filesystem, termcolor, typing-extensions, wrapt\n",
      "Required-by: \n"
     ]
    }
   ],
   "source": [
    "# To check the tensorflow package installed on the environment\n",
    "!pip show tensorflow-gpu"
   ]
  },
  {
   "cell_type": "code",
   "execution_count": 6,
   "id": "550ad2f8",
   "metadata": {},
   "outputs": [
    {
     "name": "stdout",
     "output_type": "stream",
     "text": [
      "TensorFlow Version: 2.10.1\n",
      "Name: /physical_device:GPU:0   Type: GPU\n"
     ]
    }
   ],
   "source": [
    "import tensorflow as tf\n",
    "import numpy as np\n",
    "from tensorflow import keras\n",
    "from tensorflow.keras import layers\n",
    "print(\"TensorFlow Version:\", tf.__version__)\n",
    "\n",
    "# Uncomment to see where the variables get placed\n",
    "# tf.debugging.set_log_device_placement(True)\n",
    "\n",
    "# To make sure if the notebook is using GPU\n",
    "gpus = tf.config.list_physical_devices('GPU')\n",
    "for gpu in gpus:\n",
    "    print(\"Name:\", gpu.name, \"  Type:\", gpu.device_type)"
   ]
  },
  {
   "cell_type": "markdown",
   "id": "f4f23c3a",
   "metadata": {},
   "source": [
    "## The Simplest Neural Network\n",
    "\n",
    "The simplest possible neural network is created with 1 layer with 1 neuron which has the input shape of only 1 value using Keras API's [Sequential](https://keras.io/api/models/sequential/) class as below. [Sequential](https://keras.io/api/models/sequential/) allows us to define a network as a __sequence__ of [layers](https://keras.io/api/layers/) while [Dense](https://keras.io/api/layers/core_layers/dense/) is used to define a layer of connected neurons.\n",
    "\n",
    "##### __1. Build the Model:__"
   ]
  },
  {
   "cell_type": "code",
   "execution_count": 7,
   "id": "a2403a2b",
   "metadata": {},
   "outputs": [
    {
     "data": {
      "text/plain": [
       "(None, 1)"
      ]
     },
     "execution_count": 7,
     "metadata": {},
     "output_type": "execute_result"
    }
   ],
   "source": [
    "# Build a simple sequential model\n",
    "model = tf.keras.Sequential([keras.layers.Dense(units=1, input_shape=[1])])\n",
    "model.output_shape\n",
    "\n",
    "# Same can also be done with incremental building\n",
    "# model = keras.Sequential()\n",
    "# model.add(layers.Dense(units=1, input_shape=[1]))"
   ]
  },
  {
   "cell_type": "markdown",
   "id": "58dc7841",
   "metadata": {},
   "source": [
    "##### __2. Compile the Model:__\n",
    "\n",
    "It is required to compile the model to finalise it and make it ready to use. Compilation requires to specify 2 functions: a [loss](https://keras.io/api/losses/) and an [optimizer](https://keras.io/api/optimizers/). At each __epoch__, the model makes a prediction which is evaluated with the __loss__ function by comparing the correct answers against the known correct answers. It then uses the __optimizer__ function to make a better guess by trying to minimize the loss. Below, [mean squared error](https://keras.io/api/losses/regression_losses/#meansquarederror-function) for the loss and [stochastic gradient descent](https://keras.io/api/optimizers/sgd/) for the optimizer is used. It is necessary to use the appropriate loss and optimizer functions for different scenarios."
   ]
  },
  {
   "cell_type": "code",
   "execution_count": 8,
   "id": "7144f341",
   "metadata": {},
   "outputs": [],
   "source": [
    "# Compile the model\n",
    "model.compile(optimizer='sgd', loss='mean_squared_error')"
   ]
  },
  {
   "cell_type": "markdown",
   "id": "cb31773c",
   "metadata": {},
   "source": [
    "##### __3. Provide the Data:__\n",
    "As a simple example, to create a neural network where it learns the relationship between two numbers as a _rule_ as in the function below,\n",
    "\n",
    "```\n",
    "def rel_function(x):\n",
    "    y = (3 * x) - 1\n",
    "    return y\n",
    "```\n",
    "\n",
    "__data__ is feeded to the __model__ as a set of x's and y's. The standard way of declaring model inputs and outputs is to use __numpy__, a Python library that provides lots of array type data structures. Data is specified here as numpy arrays with [`np.array()`](https://numpy.org/doc/stable/reference/generated/numpy.array.html)."
   ]
  },
  {
   "cell_type": "code",
   "execution_count": 11,
   "id": "2d52c0af",
   "metadata": {},
   "outputs": [
    {
     "name": "stdout",
     "output_type": "stream",
     "text": [
      "Number of inputs and outputs:  6\n"
     ]
    }
   ],
   "source": [
    "# Declare model inputs and outputs for training\n",
    "xs = np.array([-1.0,  0.0, 1.0, 2.0, 3.0, 4.0], dtype=float)\n",
    "ys = np.array([-4.0, -1.0, 2.0, 5.0, 8.0, 11.0], dtype=float)\n",
    "\n",
    "print(\"Number of inputs and outputs: \", (len(xs) if len(xs)==len(ys) else \"ERROR\"))"
   ]
  },
  {
   "cell_type": "markdown",
   "id": "15f2d2a4",
   "metadata": {},
   "source": [
    "##### __4. Train the Neural Network:__\n",
    "The neural network 'learns' the relationship between the x's and y's is in the [`model.fit()`](https://keras.io/api/models/model_training_apis/#fit-method) call. The model goes through the loop of making a prediction, measuring the loss, using optimizer to make another prediction for the number of `epochs` specified. When this code is run, the loss is show on the right hand side."
   ]
  },
  {
   "cell_type": "code",
   "execution_count": null,
   "id": "a5c16158",
   "metadata": {},
   "outputs": [],
   "source": [
    "# Train the model\n",
    "model.fit(xs, ys, epochs=500)"
   ]
  },
  {
   "cell_type": "markdown",
   "id": "923a218f",
   "metadata": {},
   "source": [
    "Output is as below:\n",
    "\n",
    "Epoch 1/500\n",
    "1/1 [==============================] - 6s 6s/step - loss: 24.4512\n",
    "\n",
    "Epoch 2/500\n",
    "1/1 [==============================] - 0s 35ms/step - loss: 19.5248\n",
    "\n",
    "Epoch 3/500\n",
    "1/1 [==============================] - 0s 10ms/step - loss: 15.6430\n",
    "\n",
    "...\n",
    "\n",
    "Epoch 499/500\n",
    "1/1 [==============================] - 0s 9ms/step - loss: 4.8461e-05\n",
    "\n",
    "Epoch 500/500\n",
    "1/1 [==============================] - 0s 8ms/step - loss: 4.7463e-05"
   ]
  },
  {
   "cell_type": "markdown",
   "id": "f3d234ed",
   "metadata": {},
   "source": [
    "When the model has been trained to learn the relationship between `x` and `y`, the [`model.predict()`](https://keras.io/api/models/model_training_apis/#predict-method) method is used to figure out the `y` for a previously unknown `x`."
   ]
  },
  {
   "cell_type": "code",
   "execution_count": 15,
   "id": "7963ec42",
   "metadata": {},
   "outputs": [
    {
     "name": "stdout",
     "output_type": "stream",
     "text": [
      "1/1 [==============================] - 0s 98ms/step\n",
      "[[28.979898]]\n"
     ]
    }
   ],
   "source": [
    "# Make a prediction\n",
    "print(model.predict([10.0]))"
   ]
  },
  {
   "cell_type": "markdown",
   "id": "31a8ab15",
   "metadata": {},
   "source": [
    "The neural networks deal with probabilities, so the result for 10 is very close to 29, but not necessarily 29."
   ]
  },
  {
   "cell_type": "markdown",
   "id": "80d71239",
   "metadata": {},
   "source": [
    "----------------\n",
    "## Neural Networks with Classes\n",
    "The Keras functional and subclassing APIs provide a define-by-run interface for customization and advanced research. It allows building one's own model, then writing the forward and backward pass, creating custom layers, activations, and training loops.\n",
    "\n",
    "https://www.tensorflow.org/tutorials/quickstart/advanced"
   ]
  },
  {
   "cell_type": "markdown",
   "id": "227d8dd2",
   "metadata": {},
   "source": []
  }
 ],
 "metadata": {
  "kernelspec": {
   "display_name": "Python 3.9.15 ('tf2-gpu')",
   "language": "python",
   "name": "python3"
  },
  "language_info": {
   "codemirror_mode": {
    "name": "ipython",
    "version": 3
   },
   "file_extension": ".py",
   "mimetype": "text/x-python",
   "name": "python",
   "nbconvert_exporter": "python",
   "pygments_lexer": "ipython3",
   "version": "3.9.15"
  },
  "varInspector": {
   "cols": {
    "lenName": 16,
    "lenType": 16,
    "lenVar": 40
   },
   "kernels_config": {
    "python": {
     "delete_cmd_postfix": "",
     "delete_cmd_prefix": "del ",
     "library": "var_list.py",
     "varRefreshCmd": "print(var_dic_list())"
    },
    "r": {
     "delete_cmd_postfix": ") ",
     "delete_cmd_prefix": "rm(",
     "library": "var_list.r",
     "varRefreshCmd": "cat(var_dic_list()) "
    }
   },
   "types_to_exclude": [
    "module",
    "function",
    "builtin_function_or_method",
    "instance",
    "_Feature"
   ],
   "window_display": false
  },
  "vscode": {
   "interpreter": {
    "hash": "6f3fc6488339c4e33b0cad7b2f11252c3ab69579f1539e25a75f6d6ccfe755bb"
   }
  }
 },
 "nbformat": 4,
 "nbformat_minor": 5
}
